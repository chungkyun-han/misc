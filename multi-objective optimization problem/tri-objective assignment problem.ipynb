{
 "cells": [
  {
   "cell_type": "code",
   "execution_count": 1,
   "metadata": {
    "collapsed": true
   },
   "outputs": [],
   "source": [
    "# In[1]:\n",
    "\n",
    "#\n",
    "# This jupyter notebook is a Python implementation about a multi-objective optimization problem (MOOP).\n",
    "#   For solving mathematical models, a library, gurobipy, from Gurobi is used.\n",
    "#   For visualization, a library, plotly, is used.\n",
    "# The algorithm for solving MOOPs is based on the following references;\n",
    "#   Melih Özlena and Meral Azizoğlub (2009), \n",
    "#   Multi-objective integer programming: A general approach for generating all non-dominated solutions,\n",
    "#   European Journal of Operational Research 199, 25–35 .\n",
    "#\n",
    "from gurobipy import *\n",
    "import plotly.plotly as py\n",
    "from plotly.graph_objs import *\n",
    "#\n",
    "from functions import powerset, get_GUB_GLB, draw_3D"
   ]
  },
  {
   "cell_type": "code",
   "execution_count": null,
   "metadata": {
    "collapsed": true
   },
   "outputs": [],
   "source": []
  }
 ],
 "metadata": {
  "kernelspec": {
   "display_name": "Python 2",
   "language": "python",
   "name": "python2"
  },
  "language_info": {
   "codemirror_mode": {
    "name": "ipython",
    "version": 2
   },
   "file_extension": ".py",
   "mimetype": "text/x-python",
   "name": "python",
   "nbconvert_exporter": "python",
   "pygments_lexer": "ipython2",
   "version": "2.7.13"
  }
 },
 "nbformat": 4,
 "nbformat_minor": 2
}
